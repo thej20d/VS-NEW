{
 "cells": [
  {
   "cell_type": "code",
   "execution_count": null,
   "metadata": {},
   "outputs": [],
   "source": [
    "import numpy as np\n",
    "import cv2 as cv\n",
    "import matplotlib.pyplot as plt\n",
    "\n",
    "# Genrating the true line y = m*x + c\n",
    "m = 2 # gradient \n",
    "c = 1 # intercept\n",
    "x = np.arange(1,10, 1)\n",
    "np.random.seed(45)\n",
    "noise = np.random.randn(len(x))\n",
    "o = np.zeros(x.shape)\n",
    "#\n",
    "o[-2] = 18\n",
    "\n",
    "y = m*x + c + noise + o\n",
    "\n",
    "n = len(x)\n",
    "X = np.concatenate([x.reshape(n,1), np.ones((n, 1))], axis=1)\n",
    "B = np.linalg.pinv(X.T @ X) @ X.T @ y\n",
    "mstar = B[0]\n",
    "cstar = B[1]\n",
    "\n",
    "plt.plot([x[0], x[-1]], [m*x[0] + c, m*x[-1] + c], color='g', linewidth=2, label=r'True line')\n",
    "plt.plot([x[0], x[-1]], [mstar*x[0] + cstar, mstar*x[-1] + cstar], color='r', linewidth=1, label=r'Estimated line (LS)')\n",
    "plt.plot(x,y, 'o', label='Noisy points')\n",
    "plt.legend(loc='best')"
   ]
  }
 ],
 "metadata": {
  "kernelspec": {
   "display_name": "cv",
   "language": "python",
   "name": "python3"
  },
  "language_info": {
   "name": "python",
   "version": "3.12.1"
  }
 },
 "nbformat": 4,
 "nbformat_minor": 2
}
