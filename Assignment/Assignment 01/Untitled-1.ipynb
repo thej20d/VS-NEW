{
 "cells": [
  {
   "cell_type": "code",
   "execution_count": 2,
   "metadata": {},
   "outputs": [
    {
     "ename": "AttributeError",
     "evalue": "'NoneType' object has no attribute 'astype'",
     "output_type": "error",
     "traceback": [
      "\u001b[1;31m---------------------------------------------------------------------------\u001b[0m",
      "\u001b[1;31mAttributeError\u001b[0m                            Traceback (most recent call last)",
      "Cell \u001b[1;32mIn[2], line 59\u001b[0m\n\u001b[0;32m     56\u001b[0m zoomed_bi \u001b[38;5;241m=\u001b[39m bilinear_interpolation_zoom(original_small, scale_factor)\n\u001b[0;32m     58\u001b[0m \u001b[38;5;66;03m# Calculate normalized sum of squared differences (SSD)\u001b[39;00m\n\u001b[1;32m---> 59\u001b[0m ssd_nn \u001b[38;5;241m=\u001b[39m np\u001b[38;5;241m.\u001b[39msum((zoomed_nn\u001b[38;5;241m.\u001b[39mastype(\u001b[38;5;124m\"\u001b[39m\u001b[38;5;124mfloat\u001b[39m\u001b[38;5;124m\"\u001b[39m) \u001b[38;5;241m-\u001b[39m \u001b[43mzoomed_out_small\u001b[49m\u001b[38;5;241;43m.\u001b[39;49m\u001b[43mastype\u001b[49m(\u001b[38;5;124m\"\u001b[39m\u001b[38;5;124mfloat\u001b[39m\u001b[38;5;124m\"\u001b[39m)) \u001b[38;5;241m*\u001b[39m\u001b[38;5;241m*\u001b[39m \u001b[38;5;241m2\u001b[39m)\n\u001b[0;32m     60\u001b[0m ssd_bi \u001b[38;5;241m=\u001b[39m np\u001b[38;5;241m.\u001b[39msum((zoomed_bi\u001b[38;5;241m.\u001b[39mastype(\u001b[38;5;124m\"\u001b[39m\u001b[38;5;124mfloat\u001b[39m\u001b[38;5;124m\"\u001b[39m) \u001b[38;5;241m-\u001b[39m zoomed_out_small\u001b[38;5;241m.\u001b[39mastype(\u001b[38;5;124m\"\u001b[39m\u001b[38;5;124mfloat\u001b[39m\u001b[38;5;124m\"\u001b[39m)) \u001b[38;5;241m*\u001b[39m\u001b[38;5;241m*\u001b[39m \u001b[38;5;241m2\u001b[39m)\n\u001b[0;32m     62\u001b[0m \u001b[38;5;28mprint\u001b[39m(\u001b[38;5;124m\"\u001b[39m\u001b[38;5;124mSSD (Nearest Neighbor):\u001b[39m\u001b[38;5;124m\"\u001b[39m, ssd_nn)\n",
      "\u001b[1;31mAttributeError\u001b[0m: 'NoneType' object has no attribute 'astype'"
     ]
    }
   ],
   "source": [
    "import cv2 as cv\n",
    "import numpy as np\n",
    "import matplotlib.pyplot as plt\n",
    "\n",
    "img = cv.imread('Images/building_crop.jpg', cv.IMREAD_GRAYSCALE)\n",
    "\n",
    "\n",
    "edges = cv.Canny(img, 350 , 390)\n",
    "indices = np.where(edges != [0])\n",
    "x = indices[1]\n",
    "y = indices[0]\n",
    "\n",
    "fig, axs = plt.subplots(1, 2, figsize=(10, 5))\n",
    "axs[0].imshow(img, cmap='gray')\n",
    "axs[0].set_title(\"original Image\")\n",
    "axs[1].imshow(edges.astype('uint8'), cmap='gray')\n",
    "axs[1].set_title(\"Edge Image\")\n",
    "\n",
    "plt.show()\n",
    "\n",
    "plt.scatter(x, y, s=2)\n",
    "plt.title('Scatter Plot')\n",
    "plt.show()"
   ]
  }
 ],
 "metadata": {
  "kernelspec": {
   "display_name": "cv",
   "language": "python",
   "name": "python3"
  },
  "language_info": {
   "codemirror_mode": {
    "name": "ipython",
    "version": 3
   },
   "file_extension": ".py",
   "mimetype": "text/x-python",
   "name": "python",
   "nbconvert_exporter": "python",
   "pygments_lexer": "ipython3",
   "version": "3.12.1"
  }
 },
 "nbformat": 4,
 "nbformat_minor": 2
}
