{
 "cells": [
  {
   "cell_type": "code",
   "execution_count": 3,
   "metadata": {},
   "outputs": [
    {
     "ename": "AttributeError",
     "evalue": "'NoneType' object has no attribute 'shape'",
     "output_type": "error",
     "traceback": [
      "\u001b[1;31m---------------------------------------------------------------------------\u001b[0m",
      "\u001b[1;31mAttributeError\u001b[0m                            Traceback (most recent call last)",
      "Cell \u001b[1;32mIn[3], line 53\u001b[0m\n\u001b[0;32m     51\u001b[0m \u001b[38;5;66;03m# Test nearest-neighbor zoom\u001b[39;00m\n\u001b[0;32m     52\u001b[0m scale_factor \u001b[38;5;241m=\u001b[39m \u001b[38;5;241m4\u001b[39m\n\u001b[1;32m---> 53\u001b[0m zoomed_nn \u001b[38;5;241m=\u001b[39m \u001b[43mnearest_neighbor_zoom\u001b[49m\u001b[43m(\u001b[49m\u001b[43moriginal_small\u001b[49m\u001b[43m,\u001b[49m\u001b[43m \u001b[49m\u001b[43mscale_factor\u001b[49m\u001b[43m)\u001b[49m\n\u001b[0;32m     55\u001b[0m \u001b[38;5;66;03m# Test bilinear interpolation zoom\u001b[39;00m\n\u001b[0;32m     56\u001b[0m zoomed_bi \u001b[38;5;241m=\u001b[39m bilinear_interpolation_zoom(original_small, scale_factor)\n",
      "Cell \u001b[1;32mIn[3], line 6\u001b[0m, in \u001b[0;36mnearest_neighbor_zoom\u001b[1;34m(image, scale_factor)\u001b[0m\n\u001b[0;32m      5\u001b[0m \u001b[38;5;28;01mdef\u001b[39;00m \u001b[38;5;21mnearest_neighbor_zoom\u001b[39m(image, scale_factor):\n\u001b[1;32m----> 6\u001b[0m     height, width \u001b[38;5;241m=\u001b[39m \u001b[43mimage\u001b[49m\u001b[38;5;241;43m.\u001b[39;49m\u001b[43mshape\u001b[49m[:\u001b[38;5;241m2\u001b[39m]\n\u001b[0;32m      7\u001b[0m     new_height \u001b[38;5;241m=\u001b[39m \u001b[38;5;28mint\u001b[39m(height \u001b[38;5;241m*\u001b[39m scale_factor)\n\u001b[0;32m      8\u001b[0m     new_width \u001b[38;5;241m=\u001b[39m \u001b[38;5;28mint\u001b[39m(width \u001b[38;5;241m*\u001b[39m scale_factor)\n",
      "\u001b[1;31mAttributeError\u001b[0m: 'NoneType' object has no attribute 'shape'"
     ]
    }
   ],
   "source": [
    "import numpy as np\n",
    "import cv2 as cv\n",
    "import matplotlib.pyplot as plt\n",
    "\n",
    "def nearest_neighbor_zoom(image, scale_factor):\n",
    "    height, width = image.shape[:2]\n",
    "    new_height = int(height * scale_factor)\n",
    "    new_width = int(width * scale_factor)\n",
    "    new_image = np.zeros((new_height, new_width, 3), dtype=np.uint8)\n",
    "\n",
    "    for i in range(new_height):\n",
    "        for j in range(new_width):\n",
    "            old_i = int(i / scale_factor)\n",
    "            old_j = int(j / scale_factor)\n",
    "            new_image[i, j] = image[old_i, old_j]\n",
    "\n",
    "    return new_image\n",
    "\n",
    "def bilinear_interpolation_zoom(image, scale_factor):\n",
    "    height, width = image.shape[:2]\n",
    "    new_height = int(height * scale_factor)\n",
    "    new_width = int(width * scale_factor)\n",
    "    new_image = np.zeros((new_height, new_width, 3), dtype=np.uint8)\n",
    "\n",
    "    for i in range(new_height):\n",
    "        for j in range(new_width):\n",
    "            old_i = i / scale_factor\n",
    "            old_j = j / scale_factor\n",
    "            i1, i2 = int(np.floor(old_i)), int(np.ceil(old_i))\n",
    "            j1, j2 = int(np.floor(old_j)), int(np.ceil(old_j))\n",
    "            if i2 >= height:\n",
    "                i2 = height - 1\n",
    "            if j2 >= width:\n",
    "                j2 = width - 1\n",
    "            di = old_i - i1\n",
    "            dj = old_j - j1\n",
    "            new_image[i, j] = (\n",
    "                (1 - di) * (1 - dj) * image[i1, j1] +\n",
    "                (1 - di) * dj * image[i1, j2] +\n",
    "                di * (1 - dj) * image[i2, j1] +\n",
    "                di * dj * image[i2, j2]\n",
    "            ).astype(np.uint8)\n",
    "\n",
    "    return new_image\n",
    "\n",
    "# Load images\n",
    "original_large = cv.imread(\"im01.png\")\n",
    "original_small = cv.imread(\"im01small.png\")\n",
    "zoomed_out_small = cv.imread(\"im01small_zoomed_out.png\")\n",
    "\n",
    "# Test nearest-neighbor zoom\n",
    "scale_factor = 4\n",
    "zoomed_nn = nearest_neighbor_zoom(original_small, scale_factor)\n",
    "\n",
    "# Test bilinear interpolation zoom\n",
    "zoomed_bi = bilinear_interpolation_zoom(original_small, scale_factor)\n",
    "\n",
    "# Calculate normalized sum of squared differences (SSD)\n",
    "ssd_nn = np.sum((zoomed_nn.astype(\"float\") - zoomed_out_small.astype(\"float\")) ** 2)\n",
    "ssd_bi = np.sum((zoomed_bi.astype(\"float\") - zoomed_out_small.astype(\"float\")) ** 2)\n",
    "\n",
    "print(\"SSD (Nearest Neighbor):\", ssd_nn)\n",
    "print(\"SSD (Bilinear Interpolation):\", ssd_bi)\n"
   ]
  }
 ],
 "metadata": {
  "kernelspec": {
   "display_name": "cv",
   "language": "python",
   "name": "python3"
  },
  "language_info": {
   "codemirror_mode": {
    "name": "ipython",
    "version": 3
   },
   "file_extension": ".py",
   "mimetype": "text/x-python",
   "name": "python",
   "nbconvert_exporter": "python",
   "pygments_lexer": "ipython3",
   "version": "3.12.1"
  }
 },
 "nbformat": 4,
 "nbformat_minor": 2
}
