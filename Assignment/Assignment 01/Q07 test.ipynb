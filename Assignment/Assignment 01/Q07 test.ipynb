{
 "cells": [
  {
   "cell_type": "code",
   "execution_count": 2,
   "metadata": {},
   "outputs": [
    {
     "name": "stdout",
     "output_type": "stream",
     "text": [
      "(270, 480, 3)\n"
     ]
    }
   ],
   "source": [
    "import cv2 as cv\n",
    "import numpy as np\n",
    "\n",
    "# Load the small image\n",
    "small_img = cv.imread(\"im01small.png\", cv.IMREAD_COLOR)\n",
    "assert small_img is not None, \"Image not found\"\n",
    "\n",
    "# Print the shape of the small image\n",
    "print(small_img.shape)\n",
    "\n",
    "# Define the scaling factor\n",
    "scale_factor = 2\n",
    "\n",
    "# Create a zero matrix of size 2x for each dimension of the original image\n",
    "upscaled_height = small_img.shape[0] * scale_factor\n",
    "upscaled_width = small_img.shape[1] * scale_factor\n",
    "upscaled_img = np.zeros((upscaled_height, upscaled_width, 3), dtype=np.uint8)\n",
    "\n",
    "# Perform nearest neighbor interpolation\n",
    "for y in range(small_img.shape[0]):\n",
    "    for x in range(small_img.shape[1]):\n",
    "        upscaled_img[y*scale_factor:(y+1)*scale_factor, x*scale_factor:(x+1)*scale_factor] = small_img[y, x]\n",
    "\n",
    "# Display the small image and the upscaled image\n",
    "cv.imshow(\"Small Image1\", small_img)\n",
    "cv.imshow(\"Small Image2\", small_img)\n",
    "cv.imshow(\"Near Neighbor Interpolated Image\", upscaled_img)\n",
    "cv.waitKey(0)\n",
    "cv.destroyAllWindows()"
   ]
  }
 ],
 "metadata": {
  "kernelspec": {
   "display_name": "cv",
   "language": "python",
   "name": "python3"
  },
  "language_info": {
   "codemirror_mode": {
    "name": "ipython",
    "version": 3
   },
   "file_extension": ".py",
   "mimetype": "text/x-python",
   "name": "python",
   "nbconvert_exporter": "python",
   "pygments_lexer": "ipython3",
   "version": "3.12.1"
  }
 },
 "nbformat": 4,
 "nbformat_minor": 2
}
